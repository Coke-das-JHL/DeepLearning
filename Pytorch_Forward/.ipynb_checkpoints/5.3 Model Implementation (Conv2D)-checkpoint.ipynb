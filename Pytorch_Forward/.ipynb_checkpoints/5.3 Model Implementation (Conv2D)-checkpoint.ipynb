{
 "cells": [
  {
   "cell_type": "code",
   "execution_count": null,
   "id": "relevant-consideration",
   "metadata": {},
   "outputs": [],
   "source": [
    "import torch\n",
    "import torch.nn as nn\n",
    "import numpy as np \n",
    "\n",
    "n_neurons = [10,20,30]\n",
    "\n",
    "N, n_H, n_W, n_C = 32, 28, 28, 3\n",
    "\n",
    "k_size =3 \n",
    "\n",
    "model = nn.Sequential(\n",
    "        nn.Conv2d(n_C,n_neurons[0],k_size),\n",
    "        nn.ReLU(),\n",
    "        nn.Conv2d(n_neurons[0],n_neurons[1],k_size),\n",
    "        nn.ReLU(),          \n",
    "        nn.Conv2d(n_neurons[1],n_neurons[2],k_size),\n",
    "        nn.ReLU()\n",
    ")\n",
    "                  \n",
    "images = torch.rand((N,n_C, n_H, n_W ))\n",
    "\n",
    "predictions = model(images)\n",
    "\n",
    "# N_Kernel, N_Channel, n_H, n_W\n",
    "print(images.shape)\n",
    "print(predictions.shape)"
   ]
  },
  {
   "cell_type": "code",
   "execution_count": 34,
   "id": "marked-mathematics",
   "metadata": {},
   "outputs": [
    {
     "name": "stdout",
     "output_type": "stream",
     "text": [
      "Sequential(\n",
      "  (0): Conv2d(3, 10, kernel_size=(3, 3), stride=(1, 1))\n",
      "  (1): ReLU()\n",
      "  (2): Conv2d(10, 20, kernel_size=(3, 3), stride=(1, 1))\n",
      "  (3): ReLU()\n",
      "  (4): Conv2d(20, 30, kernel_size=(3, 3), stride=(1, 1))\n",
      "  (5): ReLU()\n",
      ")\n",
      "torch.Size([10, 3, 3, 3])\n",
      "torch.Size([10])\n",
      "6\n"
     ]
    }
   ],
   "source": [
    "print(model)\n",
    "print(model[0].weight.shape)\n",
    "print(model[0].bias.shape)\n",
    "print(len(model))"
   ]
  },
  {
   "cell_type": "code",
   "execution_count": 35,
   "id": "massive-bradford",
   "metadata": {},
   "outputs": [
    {
     "name": "stdout",
     "output_type": "stream",
     "text": [
      "torch.Size([10, 3, 3, 3])\n",
      "torch.Size([10])\n",
      "torch.Size([20, 10, 3, 3])\n",
      "torch.Size([20])\n",
      "torch.Size([30, 20, 3, 3])\n",
      "torch.Size([30])\n"
     ]
    }
   ],
   "source": [
    "for i in range(0,len(model),2):\n",
    "    weight = model[i].weight\n",
    "    print(weight.shape)\n",
    "    bias = model[i].bias\n",
    "    print(bias.shape)\n",
    "    "
   ]
  },
  {
   "cell_type": "markdown",
   "id": "pressed-footwear",
   "metadata": {},
   "source": [
    "## Modeling with sub-classing"
   ]
  },
  {
   "cell_type": "code",
   "execution_count": 41,
   "id": "friendly-brazil",
   "metadata": {},
   "outputs": [
    {
     "name": "stdout",
     "output_type": "stream",
     "text": [
      "torch.Size([32, 3, 28, 28])\n",
      "torch.Size([32, 5, 26, 26])\n",
      "torch.Size([32, 7, 24, 24])\n",
      "torch.Size([32, 10, 22, 22])\n",
      "torch.Size([32, 5, 20, 20])\n"
     ]
    }
   ],
   "source": [
    "n_neurons = [3,5,7,10,5]\n",
    "\n",
    "N, n_H, n_W, n_C = 32, 28, 28, 3\n",
    "\n",
    "k_size =3 \n",
    "\n",
    "class TestModel(nn.Module):\n",
    "    def __init__(self):                # __init__() 에 신경망 레이어의 구성요소 정의\n",
    "        super(TestModel, self).__init__()\n",
    "        global n_neurons\n",
    "        \n",
    "        self.conv_layers = []\n",
    "        for i in range(len(n_neurons)-1):\n",
    "            self.conv_layers.append(nn.Conv2d(n_neurons[i],n_neurons[i+1],k_size))\n",
    "            \n",
    "    def forward(self, x):\n",
    "        # print(x.shape) -> 주석 처리하면서 확인 디버깅 가능\n",
    "        for conv_layer in self.conv_layers:\n",
    "            x = conv_layer(x)\n",
    "            print(x.shape)\n",
    "        return x\n",
    "    \n",
    "model = TestModel()\n",
    "\n",
    "images = torch.rand((N,n_C, n_H, n_W ))\n",
    "\n",
    "output = model(images)\n"
   ]
  }
 ],
 "metadata": {
  "kernelspec": {
   "display_name": "Python 3",
   "language": "python",
   "name": "python3"
  },
  "language_info": {
   "codemirror_mode": {
    "name": "ipython",
    "version": 3
   },
   "file_extension": ".py",
   "mimetype": "text/x-python",
   "name": "python",
   "nbconvert_exporter": "python",
   "pygments_lexer": "ipython3",
   "version": "3.7.9"
  }
 },
 "nbformat": 4,
 "nbformat_minor": 5
}
