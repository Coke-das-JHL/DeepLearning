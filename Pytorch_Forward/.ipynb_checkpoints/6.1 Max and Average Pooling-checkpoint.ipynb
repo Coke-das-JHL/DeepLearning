{
 "cells": [
  {
   "cell_type": "code",
   "execution_count": 1,
   "id": "democratic-oasis",
   "metadata": {},
   "outputs": [],
   "source": [
    "import torch\n",
    "import torch.nn as nn\n",
    "import numpy as np "
   ]
  },
  {
   "cell_type": "markdown",
   "id": "polyphonic-syndication",
   "metadata": {},
   "source": [
    "## Max Pooling\n",
    "\n",
    "### 1D\n",
    "\n",
    "Input: (N, C, L_{in})\n",
    "\n",
    "Output: (N, C, L_{out})"
   ]
  },
  {
   "cell_type": "code",
   "execution_count": 2,
   "id": "white-building",
   "metadata": {},
   "outputs": [
    {
     "name": "stdout",
     "output_type": "stream",
     "text": [
      "torch.Size([1, 1, 7])\n",
      "tensor([[[0.7926, 0.5145, 0.0863, 0.5527, 0.0103, 0.4898, 0.6231]]])\n",
      "torch.Size([1, 1, 6])\n",
      "tensor([[[0.7926, 0.5145, 0.5527, 0.5527, 0.4898, 0.6231]]])\n",
      "\n",
      "(6,)\n",
      "[0.7926 0.5145 0.5527 0.5527 0.4898 0.6231]\n",
      "======================================================================\n",
      "======================================================================\n",
      "torch.Size([1, 2, 7])\n",
      "tensor([[[0.5082, 0.3486, 0.7946, 0.5189, 0.4871, 0.1283, 0.4417],\n",
      "         [0.4953, 0.3303, 0.9708, 0.4073, 0.2183, 0.6470, 0.5450]]])\n",
      "torch.Size([1, 2, 6])\n",
      "tensor([[[0.5082, 0.7946, 0.7946, 0.5189, 0.4871, 0.4417],\n",
      "         [0.4953, 0.9708, 0.9708, 0.4073, 0.6470, 0.6470]]])\n"
     ]
    }
   ],
   "source": [
    "# nn.MaxPool1d(kernel_size, stride=None, padding=0, dilation=1, return_indices=False, ceil_mode=False)\n",
    "\n",
    "L, f, s = 7, 2, 1\n",
    "\n",
    "C = 1\n",
    "\n",
    "x = torch.rand((1,C,L))  # N, C, L\n",
    "pool_max =  nn.MaxPool1d(f, stride=s)\n",
    "pooled_max = pool_max(x)\n",
    "\n",
    "print(x.shape)\n",
    "print(x)\n",
    "print(pooled_max.shape)\n",
    "print(pooled_max)\n",
    "print()\n",
    "\n",
    "x = x.detach().numpy().flatten()\n",
    "pooled_max = np.zeros((L-f+1,))\n",
    "for i in range(L-f+1):\n",
    "    window = x[i:i+f]\n",
    "    pooled_max[i] = np.max(window)\n",
    "\n",
    "print(pooled_max.shape)\n",
    "print(np.round(pooled_max,4))\n",
    "print(\"=\"*70)\n",
    "print(\"=\"*70)\n",
    "C = 2   # 각 차원에 대해서 수행 -> maxPool1D 이기 때문!\n",
    "\n",
    "x = torch.rand((1,C,L))  # N, C, L\n",
    "pool_max =  nn.MaxPool1d(f, stride=s)\n",
    "pooled_max = pool_max(x)\n",
    "\n",
    "print(x.shape)\n",
    "print(x)\n",
    "print(pooled_max.shape)\n",
    "print(pooled_max)"
   ]
  },
  {
   "cell_type": "markdown",
   "id": "gothic-choir",
   "metadata": {},
   "source": [
    "### 2D"
   ]
  },
  {
   "cell_type": "code",
   "execution_count": 3,
   "id": "ruled-affiliate",
   "metadata": {},
   "outputs": [
    {
     "name": "stdout",
     "output_type": "stream",
     "text": [
      "torch.Size([1, 1, 5, 5])\n",
      "tensor([[[[0.7073, 0.8888, 0.6222, 0.1947, 0.4357],\n",
      "          [0.1377, 0.3665, 0.7427, 0.9988, 0.5819],\n",
      "          [0.8079, 0.9081, 0.3207, 0.4210, 0.7679],\n",
      "          [0.6381, 0.6841, 0.6578, 0.0513, 0.0787],\n",
      "          [0.0790, 0.3485, 0.4872, 0.3027, 0.7037]]]])\n",
      "torch.Size([1, 1, 4, 4])\n",
      "tensor([[[[0.8888, 0.8888, 0.9988, 0.9988],\n",
      "          [0.9081, 0.9081, 0.9988, 0.9988],\n",
      "          [0.9081, 0.9081, 0.6578, 0.7679],\n",
      "          [0.6841, 0.6841, 0.6578, 0.7037]]]])\n",
      "\n",
      "(5, 5)\n",
      "[[0.7072953  0.88883305 0.6222236  0.1946854  0.43571782]\n",
      " [0.13768166 0.3665406  0.7426776  0.9987757  0.5818664 ]\n",
      " [0.8078606  0.9081252  0.32074684 0.4210251  0.76793724]\n",
      " [0.6381106  0.6841145  0.65780383 0.05130124 0.07865894]\n",
      " [0.07898784 0.34850758 0.48723876 0.3027315  0.7036618 ]]\n",
      "(4, 4)\n",
      "[[0.8888 0.8888 0.9988 0.9988]\n",
      " [0.9081 0.9081 0.9988 0.9988]\n",
      " [0.9081 0.9081 0.6578 0.7679]\n",
      " [0.6841 0.6841 0.6578 0.7037]]\n",
      "\n"
     ]
    }
   ],
   "source": [
    "# torch.nn.MaxPool2d(kernel_size, stride=None, padding=0, dilation=1, return_indices=False, ceil_mode=False)\n",
    "\n",
    "N, n_H, n_W, n_C = 1, 5, 5, 1\n",
    "\n",
    "f, s = 2, 1\n",
    "\n",
    "x = torch.rand((N,n_C, n_H,n_W))  # N, Channel, Height, Width\n",
    "pool_max =  nn.MaxPool2d(f, stride=s)\n",
    "pooled_max = pool_max(x)\n",
    "\n",
    "print(x.shape)\n",
    "print(x)\n",
    "print(pooled_max.shape)\n",
    "print(pooled_max)\n",
    "print()\n",
    "\n",
    "x = x.detach().numpy().squeeze()\n",
    "pooled_max = np.zeros((n_H-f+1,n_W-f+1))\n",
    "for i in range(n_H-f+1):\n",
    "    for j in range(n_W-f+1):\n",
    "        window = x[i:i+f,j:j+f]\n",
    "        pooled_max[i][j] = np.max(window)\n",
    "        \n",
    "print(x.shape)\n",
    "print(x)\n",
    "print(pooled_max.shape)\n",
    "print(np.round(pooled_max,4))\n",
    "print()"
   ]
  },
  {
   "cell_type": "markdown",
   "id": "knowing-expression",
   "metadata": {},
   "source": [
    "### 3D"
   ]
  },
  {
   "cell_type": "code",
   "execution_count": 29,
   "id": "pleased-islam",
   "metadata": {},
   "outputs": [
    {
     "name": "stdout",
     "output_type": "stream",
     "text": [
      "torch.Size([1, 3, 5, 5])\n",
      "tensor([[[[0.3027, 0.3946, 0.5359, 0.7243, 0.5531],\n",
      "          [0.2490, 0.4254, 0.5217, 0.8291, 0.2988],\n",
      "          [0.7423, 0.6733, 0.4086, 0.9456, 0.6405],\n",
      "          [0.4510, 0.3866, 0.5877, 0.8846, 0.5840],\n",
      "          [0.0134, 0.1149, 0.2663, 0.2397, 0.2429]],\n",
      "\n",
      "         [[0.2601, 0.6884, 0.7375, 0.2443, 0.3300],\n",
      "          [0.1700, 0.8997, 0.4897, 0.3700, 0.0448],\n",
      "          [0.9610, 0.1494, 0.9937, 0.5711, 0.8329],\n",
      "          [0.2951, 0.3691, 0.4081, 0.5050, 0.4743],\n",
      "          [0.8195, 0.9793, 0.6490, 0.8022, 0.2814]],\n",
      "\n",
      "         [[0.8160, 0.8253, 0.2847, 0.5275, 0.5368],\n",
      "          [0.5677, 0.4158, 0.5985, 0.7445, 0.3772],\n",
      "          [0.3681, 0.5857, 0.8916, 0.6421, 0.9611],\n",
      "          [0.6493, 0.9662, 0.0870, 0.3599, 0.8108],\n",
      "          [0.9039, 0.0511, 0.5886, 0.8955, 0.0153]]]])\n",
      "======================================================================\n",
      "torch.Size([1, 1, 2, 2])\n",
      "tensor([[[[0.8997, 0.8291],\n",
      "          [0.9610, 0.9937]]]])\n",
      "\n",
      "======================================================================\n",
      "torch.Size([1, 3, 2, 2])\n",
      "tensor([[[[0.4254, 0.8291],\n",
      "          [0.7423, 0.9456]],\n",
      "\n",
      "         [[0.8997, 0.7375],\n",
      "          [0.9610, 0.9937]],\n",
      "\n",
      "         [[0.8253, 0.7445],\n",
      "          [0.9662, 0.8916]]]])\n",
      "======================================================================\n",
      "(3, 2, 2)\n",
      "[[[0.42541039 0.82908624]\n",
      "  [0.74230093 0.94556254]]\n",
      "\n",
      " [[0.89969039 0.73746908]\n",
      "  [0.9610182  0.99370819]]\n",
      "\n",
      " [[0.82534665 0.74451041]\n",
      "  [0.96622103 0.8916235 ]]]\n"
     ]
    }
   ],
   "source": [
    "N, n_H, n_W, n_C = 1, 5, 5, 3\n",
    "\n",
    "f, s = 2, 2\n",
    "\n",
    "x = torch.rand((N,n_C, n_H,n_W))  # N, Channel, Height, Width\n",
    "pool_max3d =  nn.MaxPool3d(f, stride=s)\n",
    "pool_max2d =  nn.MaxPool2d(f, stride=s)\n",
    "pooled_max3d = pool_max3d(x)\n",
    "pooled_max2d = pool_max2d(x)\n",
    "\n",
    "print(x.shape)\n",
    "print(x)\n",
    "print('='*70)\n",
    "print(pooled_max3d.shape)\n",
    "print(pooled_max3d)\n",
    "print()\n",
    "print('='*70)\n",
    "print(pooled_max2d.shape)\n",
    "print(pooled_max2d)\n",
    "\n",
    "# Multi Channel 2D with Strides\n",
    "x = x.detach().numpy().squeeze()\n",
    "n_H_ = np.floor((n_H-f)/s + 1).astype(np.int8)\n",
    "n_W_ = np.floor((n_W-f)/s + 1).astype(np.int8)\n",
    "pooled_max2d = np.zeros((n_C,n_H_,n_W_))\n",
    "\n",
    "for c in range(n_C):\n",
    "    h_=0\n",
    "    for h in range(0,n_H-f+1,s):\n",
    "        w_=0\n",
    "        for w in range(0,n_W-f+1,s):\n",
    "            window = x[c,h:h+f,w:w+f]\n",
    "            pooled_max2d[c,h_,w_]=np.max(window)\n",
    "            \n",
    "            w_+=1\n",
    "        h_+=1\n",
    "        \n",
    "print('='*70)\n",
    "print(pooled_max2d.shape)\n",
    "print(np.round(pooled_max2d,4))"
   ]
  },
  {
   "cell_type": "markdown",
   "id": "fundamental-maine",
   "metadata": {},
   "source": [
    "## Average Pooling\n",
    "\n",
    "### 1D"
   ]
  },
  {
   "cell_type": "code",
   "execution_count": 4,
   "id": "emerging-parish",
   "metadata": {},
   "outputs": [
    {
     "name": "stdout",
     "output_type": "stream",
     "text": [
      "torch.Size([1, 1, 7])\n",
      "tensor([[[0.9777, 0.3754, 0.2967, 0.2442, 0.0659, 0.5699, 0.1200]]])\n",
      "torch.Size([1, 1, 6])\n",
      "tensor([[[0.6765, 0.3360, 0.2705, 0.1551, 0.3179, 0.3450]]])\n",
      "\n",
      "(6,)\n",
      "[0.6765 0.336  0.2705 0.1551 0.3179 0.345 ]\n",
      "======================================================================\n",
      "======================================================================\n"
     ]
    }
   ],
   "source": [
    "# torch.nn.AvgPool1d(kernel_size, stride=None, padding=0, ceil_mode=False, count_include_pad=True)\n",
    "\n",
    "L, f, s = 7, 2, 1\n",
    "\n",
    "C = 1\n",
    "\n",
    "x = torch.rand((1,C,L))  # N, C, L\n",
    "pool_avg =  nn.AvgPool1d(f, stride=s)\n",
    "pooled_avg = pool_avg(x)\n",
    "\n",
    "print(x.shape)\n",
    "print(x)\n",
    "print(pooled_avg.shape)\n",
    "print(pooled_avg)\n",
    "print()\n",
    "\n",
    "x = x.detach().numpy().flatten()\n",
    "pooled_max = np.zeros((L-f+1,))\n",
    "for i in range(L-f+1):\n",
    "    window = x[i:i+f]\n",
    "    pooled_max[i] = np.mean(window)\n",
    "    \n",
    "print(pooled_max.shape)\n",
    "print(np.round(pooled_max,4))\n",
    "print(\"=\"*70)\n",
    "print(\"=\"*70)"
   ]
  },
  {
   "cell_type": "markdown",
   "id": "super-manitoba",
   "metadata": {},
   "source": [
    "### 2D"
   ]
  },
  {
   "cell_type": "code",
   "execution_count": 5,
   "id": "macro-civilization",
   "metadata": {},
   "outputs": [
    {
     "name": "stdout",
     "output_type": "stream",
     "text": [
      "torch.Size([1, 1, 5, 5])\n",
      "tensor([[[[0.7367, 0.0571, 0.9672, 0.7641, 0.3406],\n",
      "          [0.7714, 0.5912, 0.2181, 0.3964, 0.4324],\n",
      "          [0.1131, 0.3513, 0.0735, 0.7287, 0.1020],\n",
      "          [0.2983, 0.4203, 0.4208, 0.0793, 0.1028],\n",
      "          [0.1168, 0.5816, 0.7070, 0.6249, 0.7906]]]])\n",
      "torch.Size([1, 1, 4, 4])\n",
      "tensor([[[[0.5391, 0.4584, 0.5865, 0.4834],\n",
      "          [0.4568, 0.3085, 0.3542, 0.4149],\n",
      "          [0.2957, 0.3165, 0.3256, 0.2532],\n",
      "          [0.3543, 0.5324, 0.4580, 0.3994]]]])\n",
      "\n",
      "(5, 5)\n",
      "[[0.7366549  0.05706203 0.96724176 0.76412624 0.34063488]\n",
      " [0.77142364 0.5912331  0.21813548 0.39638412 0.43238854]\n",
      " [0.1130783  0.3512838  0.07349521 0.7287049  0.10204899]\n",
      " [0.29828978 0.42031318 0.42078394 0.07930017 0.10277033]\n",
      " [0.11680263 0.58160603 0.70695996 0.6249445  0.7906007 ]]\n",
      "(4, 4)\n",
      "[[0.5391 0.4584 0.5865 0.4834]\n",
      " [0.4568 0.3085 0.3542 0.4149]\n",
      " [0.2957 0.3165 0.3256 0.2532]\n",
      " [0.3543 0.5324 0.458  0.3994]]\n",
      "\n"
     ]
    }
   ],
   "source": [
    "# torch.nn.AvgPool2d(kernel_size, stride=None, padding=0, ceil_mode=False, count_include_pad=True, divisor_override=None)\n",
    "\n",
    "N, n_H, n_W, n_C = 1, 5, 5, 1\n",
    "\n",
    "f, s = 2, 1\n",
    "\n",
    "x = torch.rand((N,n_C, n_H,n_W))  # N, Channel, Height, Width\n",
    "pool_avg =  nn.AvgPool2d(f, stride=s)\n",
    "pooled_avg = pool_avg(x)\n",
    "\n",
    "print(x.shape)\n",
    "print(x)\n",
    "print(pooled_avg.shape)\n",
    "print(pooled_avg)\n",
    "print()\n",
    "\n",
    "x = x.detach().numpy().squeeze()\n",
    "pooled_avg = np.zeros((n_H-f+1,n_W-f+1))\n",
    "for i in range(n_H-f+1):\n",
    "    for j in range(n_W-f+1):\n",
    "        window = x[i:i+f,j:j+f]\n",
    "        pooled_avg[i][j] = np.mean(window)\n",
    "        \n",
    "print(x.shape)\n",
    "print(x)\n",
    "print(pooled_avg.shape)\n",
    "print(np.round(pooled_avg,4))\n",
    "print()"
   ]
  }
 ],
 "metadata": {
  "kernelspec": {
   "display_name": "Python 3",
   "language": "python",
   "name": "python3"
  },
  "language_info": {
   "codemirror_mode": {
    "name": "ipython",
    "version": 3
   },
   "file_extension": ".py",
   "mimetype": "text/x-python",
   "name": "python",
   "nbconvert_exporter": "python",
   "pygments_lexer": "ipython3",
   "version": "3.7.9"
  }
 },
 "nbformat": 4,
 "nbformat_minor": 5
}
