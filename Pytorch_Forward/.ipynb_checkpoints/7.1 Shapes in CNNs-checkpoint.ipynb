{
 "cells": [
  {
   "cell_type": "code",
   "execution_count": 1,
   "id": "documented-unknown",
   "metadata": {},
   "outputs": [],
   "source": [
    "import torch\n",
    "import torch.nn as nn\n",
    "import numpy as np "
   ]
  },
  {
   "cell_type": "markdown",
   "id": "laden-junior",
   "metadata": {},
   "source": [
    "## Feature Extractors "
   ]
  },
  {
   "cell_type": "code",
   "execution_count": 35,
   "id": "passive-kuwait",
   "metadata": {},
   "outputs": [
    {
     "name": "stdout",
     "output_type": "stream",
     "text": [
      "input shape         :  torch.Size([32, 3, 28, 28])\n",
      "after Conv2D shape  :  torch.Size([32, 5, 28, 28])\n",
      "Conv2D weight/bias  :  torch.Size([5, 3, 3, 3]) torch.Size([5])\n",
      "after Pool shape    :  torch.Size([32, 5, 14, 14])\n",
      "after Conv2D shape  :  torch.Size([32, 5, 14, 14])\n",
      "Conv2D weight/bias  :  torch.Size([5, 5, 3, 3]) torch.Size([5])\n",
      "after Pool shape    :  torch.Size([32, 5, 7, 7])\n",
      "after flatten shape :  torch.Size([32, 245])                !! Feature Vector !!\n"
     ]
    }
   ],
   "source": [
    "batch_size =32\n",
    "N, n_C, n_H, n_W = 32,3,28,28\n",
    "kernel_size = 3\n",
    "pool_size, pool_strides = 2, 2\n",
    "x = torch.rand((N, n_C, n_H, n_W))\n",
    "\n",
    "n_conv_filter = 5\n",
    "\n",
    "relu = nn.ReLU()\n",
    "\n",
    "conv1 = nn.Conv2d(n_C, n_conv_filter, kernel_size, padding = (kernel_size-1) // 2 )\n",
    "\n",
    "conv_pool1 = nn.MaxPool2d(pool_size, stride = pool_strides)\n",
    "\n",
    "conv2 = nn.Conv2d(n_conv_filter, n_conv_filter, kernel_size, padding = (kernel_size-1) // 2 )\n",
    "\n",
    "conv_pool2 = nn.MaxPool2d(pool_size, stride = pool_strides)\n",
    "\n",
    "flatten = nn.Flatten()\n",
    "\n",
    "print('input shape         : ', x.shape)\n",
    "x = conv1(x)\n",
    "x = relu(x)\n",
    "weight, bias = conv1.weight, conv1.bias\n",
    "print('after Conv2D shape  : ', x.shape)\n",
    "print('Conv2D weight/bias  : ', weight.shape, bias.shape)\n",
    "x = conv_pool1(x)\n",
    "print('after Pool shape    : ', x.shape)\n",
    "x = conv2(x)\n",
    "x = relu(x)\n",
    "weight, bias = conv2.weight, conv2.bias\n",
    "print('after Conv2D shape  : ', x.shape)\n",
    "print('Conv2D weight/bias  : ', weight.shape, bias.shape)\n",
    "x = conv_pool2(x)\n",
    "print('after Pool shape    : ', x.shape)\n",
    "x = flatten(x)\n",
    "print('after flatten shape : ', x.shape, '               !! Feature Vector !!')"
   ]
  },
  {
   "cell_type": "markdown",
   "id": "average-caribbean",
   "metadata": {},
   "source": [
    "## Classifier"
   ]
  },
  {
   "cell_type": "code",
   "execution_count": 36,
   "id": "resistant-serbia",
   "metadata": {},
   "outputs": [
    {
     "name": "stdout",
     "output_type": "stream",
     "text": [
      "input feature length:  torch.Size([32, 245])\n",
      "after Dense1 shape  :  torch.Size([32, 50])\n",
      "Dense1 weight/bias  :  torch.Size([50, 245]) torch.Size([50])\n",
      "after Dense2 shape  :  torch.Size([32, 25])\n",
      "Dense2 weight/bias  :  torch.Size([25, 50]) torch.Size([25])\n",
      "after Dense3 shape  :  torch.Size([32, 10])\n",
      "Dense3 weight/bias  :  torch.Size([10, 25]) torch.Size([10])\n",
      "Final Output shape  :  torch.Size([32, 10])\n"
     ]
    }
   ],
   "source": [
    "feature_length = len(x[0])\n",
    "\n",
    "n_neurons = [50,25,10]\n",
    "\n",
    "dense1 = nn.Linear(feature_length, n_neurons[0])\n",
    "dense2 = nn.Linear(n_neurons[0], n_neurons[1])\n",
    "dense3 = nn.Linear(n_neurons[1], n_neurons[2])\n",
    "softmax= nn.Softmax(dim=1)\n",
    "\n",
    "print('input feature length: ', x.shape)\n",
    "x = dense1(x)\n",
    "x = relu(x)\n",
    "weight, bias = dense1.weight, dense1.bias\n",
    "print('after Dense1 shape  : ', x.shape)\n",
    "print('Dense1 weight/bias  : ', weight.shape, bias.shape)\n",
    "x = dense2(x)\n",
    "x = relu(x)\n",
    "weight, bias = dense2.weight, dense2.bias\n",
    "print('after Dense2 shape  : ', x.shape)\n",
    "print('Dense2 weight/bias  : ', weight.shape, bias.shape)\n",
    "x = dense3(x)\n",
    "x = relu(x)\n",
    "weight, bias = dense3.weight, dense3.bias\n",
    "print('after Dense3 shape  : ', x.shape)\n",
    "print('Dense3 weight/bias  : ', weight.shape, bias.shape)\n",
    "x = softmax(x)\n",
    "print('Final Output shape  : ', x.shape)"
   ]
  },
  {
   "cell_type": "markdown",
   "id": "independent-increase",
   "metadata": {},
   "source": [
    "## Loss Functon"
   ]
  },
  {
   "cell_type": "code",
   "execution_count": 47,
   "id": "hybrid-cheese",
   "metadata": {},
   "outputs": [
    {
     "data": {
      "text/plain": [
       "tensor(2.3009, grad_fn=<NllLossBackward>)"
      ]
     },
     "execution_count": 47,
     "metadata": {},
     "output_type": "execute_result"
    }
   ],
   "source": [
    "y = torch.randint(0,10,(N,), dtype=torch.long)\n",
    "\n",
    "entropy = nn.CrossEntropyLoss()\n",
    "\n",
    "loss = entropy(x,y)\n",
    "\n",
    "loss"
   ]
  }
 ],
 "metadata": {
  "kernelspec": {
   "display_name": "Python 3",
   "language": "python",
   "name": "python3"
  },
  "language_info": {
   "codemirror_mode": {
    "name": "ipython",
    "version": 3
   },
   "file_extension": ".py",
   "mimetype": "text/x-python",
   "name": "python",
   "nbconvert_exporter": "python",
   "pygments_lexer": "ipython3",
   "version": "3.7.9"
  }
 },
 "nbformat": 4,
 "nbformat_minor": 5
}
