{
 "cells": [
  {
   "cell_type": "code",
   "execution_count": 1,
   "id": "accredited-inquiry",
   "metadata": {},
   "outputs": [],
   "source": [
    "import torch\n",
    "import torch.nn as nn\n",
    "import numpy as np"
   ]
  },
  {
   "cell_type": "code",
   "execution_count": 2,
   "id": "celtic-bikini",
   "metadata": {},
   "outputs": [
    {
     "name": "stdout",
     "output_type": "stream",
     "text": [
      "weight1 shape :  torch.Size([3, 10])\n",
      "  bias1 shape :  torch.Size([3])\n",
      "weight2 shape :  torch.Size([5, 3])\n",
      "  bias1 shape :  torch.Size([5])\n",
      "==================================================\n",
      "input shape :  torch.Size([4, 10])\n",
      "1st Layout Output Shape :  torch.Size([4, 3])\n",
      "2nd Layout Output Shape :  torch.Size([4, 5])\n",
      "==================================================\n",
      "output\n",
      "tensor([[0.4728, 0.5157, 0.4803, 0.3830, 0.5709],\n",
      "        [0.4827, 0.5170, 0.4886, 0.3730, 0.5729],\n",
      "        [0.4722, 0.5076, 0.4776, 0.3887, 0.5799],\n",
      "        [0.4780, 0.5103, 0.4830, 0.3815, 0.5790]], grad_fn=<SigmoidBackward>)\n"
     ]
    }
   ],
   "source": [
    "N, n_feature = 4, 10\n",
    "x = torch.rand((N, n_feature))\n",
    "\n",
    "n_neuron = [3,5] # number of output features\n",
    "\n",
    "dense1 = nn.Linear(         10, n_neuron[0])\n",
    "dense2 = nn.Linear(n_neuron[0], n_neuron[1])\n",
    "activation = nn.Sigmoid()\n",
    "\n",
    "w1 = dense1.weight\n",
    "b1 = dense1.bias\n",
    "w2 = dense2.weight\n",
    "b2 = dense2.bias\n",
    "print('weight1 shape : ', w1.shape)\n",
    "print('  bias1 shape : ', b1.shape)\n",
    "print('weight2 shape : ', w2.shape)\n",
    "print('  bias1 shape : ', b2.shape)\n",
    "print('='*50)\n",
    "print('input shape : ', x.shape)\n",
    "A1 = dense1(x)\n",
    "A1 = activation(A1)\n",
    "print('1st Layout Output Shape : ', A1.shape)\n",
    "A2 = dense2(A1)\n",
    "A2 = activation(A2)\n",
    "print('2nd Layout Output Shape : ', A2.shape)\n",
    "print('='*50)\n",
    "print('output')\n",
    "print(A2)"
   ]
  },
  {
   "cell_type": "code",
   "execution_count": 3,
   "id": "canadian-mambo",
   "metadata": {},
   "outputs": [
    {
     "name": "stdout",
     "output_type": "stream",
     "text": [
      "output\n",
      "tensor([[0.4728, 0.5157, 0.4803, 0.3830, 0.5709],\n",
      "        [0.4827, 0.5170, 0.4886, 0.3730, 0.5729],\n",
      "        [0.4722, 0.5076, 0.4776, 0.3887, 0.5799],\n",
      "        [0.4780, 0.5103, 0.4830, 0.3815, 0.5790]], grad_fn=<MulBackward0>)\n"
     ]
    }
   ],
   "source": [
    "# w1, w2, b1, b2\n",
    "A1 = x @ w1.T + b1\n",
    "A1 = 1 / (1+torch.exp(-A1))\n",
    "A2 = A1 @ w2.T +b2\n",
    "A2 = 1 / (1+torch.exp(-A2))\n",
    "print('output')\n",
    "print(A2)"
   ]
  },
  {
   "cell_type": "code",
   "execution_count": 4,
   "id": "senior-philippines",
   "metadata": {},
   "outputs": [
    {
     "name": "stdout",
     "output_type": "stream",
     "text": [
      "After Dense Layer  0\n",
      "torch.Size([4, 64])\n",
      "After Dense Layer  1\n",
      "torch.Size([4, 32])\n",
      "After Dense Layer  2\n",
      "torch.Size([4, 16])\n",
      "After Dense Layer  3\n",
      "torch.Size([4, 8])\n",
      "tensor([[0.5301, 0.6302, 0.4778, 0.4466, 0.6634, 0.4020, 0.4637, 0.4648],\n",
      "        [0.5300, 0.6301, 0.4775, 0.4466, 0.6633, 0.4021, 0.4636, 0.4650],\n",
      "        [0.5303, 0.6303, 0.4777, 0.4462, 0.6632, 0.4019, 0.4637, 0.4650],\n",
      "        [0.5300, 0.6301, 0.4779, 0.4465, 0.6635, 0.4022, 0.4637, 0.4650]],\n",
      "       grad_fn=<SigmoidBackward>)\n",
      "After Dense Layer  0\n",
      "torch.Size([4, 64])\n",
      "After Dense Layer  1\n",
      "torch.Size([4, 32])\n",
      "After Dense Layer  2\n",
      "torch.Size([4, 16])\n",
      "After Dense Layer  3\n",
      "torch.Size([4, 8])\n",
      "tensor([[0.5301, 0.6302, 0.4778, 0.4466, 0.6634, 0.4020, 0.4637, 0.4648],\n",
      "        [0.5300, 0.6301, 0.4775, 0.4466, 0.6633, 0.4021, 0.4636, 0.4650],\n",
      "        [0.5303, 0.6303, 0.4777, 0.4462, 0.6632, 0.4019, 0.4637, 0.4650],\n",
      "        [0.5300, 0.6301, 0.4779, 0.4465, 0.6635, 0.4022, 0.4637, 0.4650]],\n",
      "       grad_fn=<MulBackward0>)\n"
     ]
    }
   ],
   "source": [
    "N, n_feature = 4, 32\n",
    "x = torch.rand((N, n_feature))\n",
    "x2 = x\n",
    "n_neurons = [64,32,16,8]\n",
    "\n",
    "dense_layers = list()\n",
    "weight_list  = list()\n",
    "bias_list    = list()\n",
    "\n",
    "# Generate Layers\n",
    "dense = nn.Linear(n_feature, n_neurons[0])\n",
    "dense_layers.append(dense)\n",
    "weight_list.append(dense.weight)\n",
    "bias_list.append(dense.bias)\n",
    "for neuron_idx in range(len(n_neurons)-1):\n",
    "    dense = nn.Linear(n_neurons[neuron_idx], n_neurons[neuron_idx+1])\n",
    "    weight_list.append(dense.weight)\n",
    "    bias_list.append(dense.bias)\n",
    "    dense_layers.append(dense)\n",
    "\n",
    "# pytorch\n",
    "for dense_idx, dense in enumerate(dense_layers):\n",
    "    x = dense(x)\n",
    "    x = activation(x)\n",
    "    print('After Dense Layer ', dense_idx)\n",
    "    print(x.shape)\n",
    "print(x)\n",
    "\n",
    "# Matrix Multiplication\n",
    "for dense_idx, dense in enumerate(dense_layers):\n",
    "    x2 = x2 @ weight_list[dense_idx].T + bias_list[dense_idx]\n",
    "    x2 = 1 / (1+torch.exp(-x2))\n",
    "    print('After Dense Layer ', dense_idx)\n",
    "    print(x2.shape)\n",
    "print(x2)"
   ]
  }
 ],
 "metadata": {
  "kernelspec": {
   "display_name": "Python 3",
   "language": "python",
   "name": "python3"
  },
  "language_info": {
   "codemirror_mode": {
    "name": "ipython",
    "version": 3
   },
   "file_extension": ".py",
   "mimetype": "text/x-python",
   "name": "python",
   "nbconvert_exporter": "python",
   "pygments_lexer": "ipython3",
   "version": "3.7.9"
  }
 },
 "nbformat": 4,
 "nbformat_minor": 5
}
