{
 "cells": [
  {
   "cell_type": "markdown",
   "id": "foster-football",
   "metadata": {},
   "source": [
    "## Shape of Dense Layer"
   ]
  },
  {
   "cell_type": "code",
   "execution_count": 1,
   "id": "frank-talent",
   "metadata": {},
   "outputs": [
    {
     "name": "stdout",
     "output_type": "stream",
     "text": [
      "input  shape         :  torch.Size([4, 10])\n",
      "weight shape         :  torch.Size([3, 10])\n",
      "bias   shape         :  torch.Size([3])\n",
      "output shape (torch) :  torch.Size([4, 3])\n",
      "output       (torch) \n",
      " tensor([[0.4873, 0.3589, 0.2913],\n",
      "        [0.3683, 0.2880, 0.2570],\n",
      "        [0.4203, 0.3150, 0.2472],\n",
      "        [0.3819, 0.3107, 0.2445]], grad_fn=<SigmoidBackward>)\n"
     ]
    }
   ],
   "source": [
    "import torch\n",
    "import torch.nn as nn\n",
    "import numpy as np\n",
    "\n",
    "N, n_feature = 4, 10\n",
    "\n",
    "x = torch.rand((N, n_feature))\n",
    "\n",
    "n_neuron = 3 # number of output features\n",
    "\n",
    "dense = nn.Linear(n_feature, n_neuron)\n",
    "activation = nn.Sigmoid()\n",
    "\n",
    "weight, bias = dense.weight, dense.bias\n",
    "\n",
    "y_torch = activation(dense(x))                     # X @ W.T + B = Y\n",
    "\n",
    "print('input  shape         : ', x.shape)            # [ Batch size, input Feature]\n",
    "print('weight shape         : ', weight.shape) # Row Vector!\n",
    "print('bias   shape         : ', bias.shape)   # Row Vector!\n",
    "print('output shape (torch) : ', y_torch.shape)      # [ Batch size, output Feature]\n",
    "print('output       (torch) \\n', y_torch)"
   ]
  },
  {
   "cell_type": "code",
   "execution_count": 2,
   "id": "equivalent-conservation",
   "metadata": {},
   "outputs": [
    {
     "name": "stdout",
     "output_type": "stream",
     "text": [
      "output shape (torch) :  (4, 3)\n",
      "output       (numpy) \n",
      " [[0.48725018 0.3588789  0.2913365 ]\n",
      " [0.36830077 0.28803453 0.25700906]\n",
      " [0.4203049  0.31497717 0.2472047 ]\n",
      " [0.38185033 0.31068537 0.24446833]]\n"
     ]
    }
   ],
   "source": [
    "y = x @ weight.T + bias\n",
    "y = y.detach().numpy()\n",
    "y_numpy = 1 / (1 + np.exp(-y))\n",
    "print('output shape (torch) : ', y_numpy.shape)\n",
    "print('output       (numpy) \\n', y_numpy)"
   ]
  },
  {
   "cell_type": "code",
   "execution_count": 3,
   "id": "crude-sample",
   "metadata": {},
   "outputs": [],
   "source": [
    "x = x.detach().numpy()\n",
    "w = weight.detach().numpy()\n",
    "b = bias.detach().numpy()"
   ]
  },
  {
   "cell_type": "code",
   "execution_count": 4,
   "id": "indoor-cross",
   "metadata": {},
   "outputs": [
    {
     "name": "stdout",
     "output_type": "stream",
     "text": [
      "input  shape         :  (4, 10)\n",
      "weight shape         :  (3, 10)\n",
      "bias   shape         :  (3,)\n",
      "output shape (numpy) :  (4, 3)\n",
      "output       (numpy) \n",
      " [[0.48725017 0.3588789  0.2913365 ]\n",
      " [0.36830077 0.28803454 0.25700906]\n",
      " [0.42030491 0.31497717 0.24720471]\n",
      " [0.38185033 0.31068536 0.24446833]]\n"
     ]
    }
   ],
   "source": [
    "print('input  shape         : ', x.shape)   # [ Batch size, input Feature]\n",
    "print('weight shape         : ', w.shape)   # Row Vector!\n",
    "print('bias   shape         : ', b.shape)   # Row Vector!\n",
    "\n",
    "y = np.zeros((N,n_neuron))\n",
    "\n",
    "for i in range(N):\n",
    "    temp_x = x[i]\n",
    "    for j in range(n_neuron):\n",
    "        temp_w = w[j]\n",
    "        y_temp = np.sum(temp_x * temp_w) + b[j]\n",
    "        y[i][j] = 1 / (1 + np.exp(-y_temp))\n",
    "        \n",
    "print('output shape (numpy) : ', y.shape)\n",
    "print('output       (numpy) \\n', y)"
   ]
  }
 ],
 "metadata": {
  "kernelspec": {
   "display_name": "Python 3",
   "language": "python",
   "name": "python3"
  },
  "language_info": {
   "codemirror_mode": {
    "name": "ipython",
    "version": 3
   },
   "file_extension": ".py",
   "mimetype": "text/x-python",
   "name": "python",
   "nbconvert_exporter": "python",
   "pygments_lexer": "ipython3",
   "version": "3.7.9"
  }
 },
 "nbformat": 4,
 "nbformat_minor": 5
}
