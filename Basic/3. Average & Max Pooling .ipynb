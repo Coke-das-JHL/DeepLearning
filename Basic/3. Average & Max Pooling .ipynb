{
 "cells": [
  {
   "attachments": {
    "image-2.png": {
     "image/png": "[encoded data removed]"
    },
    "image.png": {
     "image/png": "[encoded data removed]"
    }
   },
   "cell_type": "markdown",
   "id": "optional-closing",
   "metadata": {},
   "source": [
    "# Average Pooling / Max Pooling\n",
    "\n",
    "### 1D \n",
    "\n",
    "#### Average Pooling /  Max Pooling \n",
    "\n",
    "\n",
    "### 2D\n",
    "\n",
    "#### Average Pooling \n",
    "\n",
    "![image.png](attachment:image.png)\n",
    "\n",
    "#### Max Pooling \n",
    "\n",
    "![image-2.png](attachment:image-2.png)"
   ]
  },
  {
   "cell_type": "code",
   "execution_count": 5,
   "id": "lonely-feeding",
   "metadata": {},
   "outputs": [
    {
     "name": "stdout",
     "output_type": "stream",
     "text": [
      "Input data:  [7 3 6 2 3 9 9 3 0 8]\n",
      "Length of data:  10 \n",
      "\n",
      "Pooled data:  [5.33 3.67 3.67 4.67 7.   7.   4.   3.67]\n",
      "Length of pooled data:  8\n"
     ]
    }
   ],
   "source": [
    "import numpy as np\n",
    "\n",
    "# 1D Average Pooling\n",
    "\n",
    "# Window Size\n",
    "win_size = 3\n",
    "\n",
    "# random data\n",
    "data = np.random.randint(0,10,(10,))\n",
    "data_len = len(data)\n",
    "print(\"Input data: \", data)\n",
    "print(\"Length of data: \", data_len, '\\n')\\\n",
    "\n",
    "out_len = data_len - (win_size - 1)\n",
    "\n",
    "# average pooling\n",
    "output = np.zeros((out_len,))\n",
    "for idx in range(out_len):\n",
    "    output[idx] = np.mean(data[idx:idx+win_size])\n",
    "\n",
    "print(\"Pooled data: \", np.round(output,2))\n",
    "print(\"Length of pooled data: \", len(output))"
   ]
  },
  {
   "cell_type": "code",
   "execution_count": 6,
   "id": "second-membership",
   "metadata": {},
   "outputs": [
    {
     "name": "stdout",
     "output_type": "stream",
     "text": [
      "Input data:  [9 1 2 9 9 6 2 6 8 4]\n",
      "Length of data:  10 \n",
      "\n",
      "Pooled data:  [9. 9. 9. 9. 9. 6. 8. 8.]\n",
      "Length of pooled data:  8\n"
     ]
    }
   ],
   "source": [
    "# 1D Max Pooling\n",
    "\n",
    "# Window Size\n",
    "win_size = 3\n",
    "\n",
    "# random data\n",
    "data = np.random.randint(0,10,(10,))\n",
    "data_len = len(data)\n",
    "print(\"Input data: \", data)\n",
    "print(\"Length of data: \", data_len, '\\n')\\\n",
    "\n",
    "out_len = data_len - (win_size - 1)\n",
    "\n",
    "# Max pooling\n",
    "output = np.zeros((out_len,))\n",
    "for idx in range(out_len):\n",
    "    output[idx] = np.max(data[idx:idx+win_size])\n",
    "\n",
    "print(\"Pooled data: \", np.round(output,2))\n",
    "print(\"Length of pooled data: \", len(output))"
   ]
  },
  {
   "cell_type": "code",
   "execution_count": 7,
   "id": "cosmetic-memphis",
   "metadata": {},
   "outputs": [
    {
     "name": "stdout",
     "output_type": "stream",
     "text": [
      "[[0 4 2 3 4]\n",
      " [1 0 3 0 1]\n",
      " [3 3 1 3 1]\n",
      " [1 3 4 4 2]\n",
      " [1 2 3 1 4]]\n",
      "=====\n",
      "=====\n",
      "[[1.889 2.111 2.   ]\n",
      " [2.111 2.333 2.111]\n",
      " [2.333 2.667 2.556]]\n"
     ]
    }
   ],
   "source": [
    "# 2D Average Pooling\n",
    "\n",
    "# Window Size\n",
    "window_size = 3 # 3x3\n",
    "\n",
    "# generate 2D data\n",
    "H, W = 5, 5\n",
    "data = np.random.randint(0,5,(H,W))\n",
    "print(data)\n",
    "print('=====')\n",
    "\n",
    "# Output\n",
    "output_H, output_W = H - (window_size - 1), W - (window_size - 1)\n",
    "\n",
    "output = np.zeros((output_H,output_W))\n",
    "for h in range(output_H):\n",
    "    for w in range(output_W):\n",
    "        # extract the window\n",
    "        window_data = data[h:h+window_size,w:w+window_size]\n",
    "        output[h,w] = np.mean(window_data)\n",
    "print('=====')\n",
    "\n",
    "print(np.round(output,3))"
   ]
  },
  {
   "cell_type": "code",
   "execution_count": 8,
   "id": "multiple-projector",
   "metadata": {},
   "outputs": [
    {
     "name": "stdout",
     "output_type": "stream",
     "text": [
      "[[3 3 4 2 2]\n",
      " [3 3 1 1 0]\n",
      " [4 3 2 1 3]\n",
      " [0 3 1 3 0]\n",
      " [1 1 2 0 4]]\n",
      "=====\n",
      "=====\n",
      "[[4. 4. 4.]\n",
      " [4. 3. 3.]\n",
      " [4. 3. 4.]]\n"
     ]
    }
   ],
   "source": [
    "# 2D Max Pooling\n",
    "\n",
    "# Window Size\n",
    "window_size = 3 # 3x3\n",
    "\n",
    "# generate 2D data\n",
    "H, W = 5, 5\n",
    "data = np.random.randint(0,5,(H,W))\n",
    "print(data)\n",
    "print('=====')\n",
    "\n",
    "# Output\n",
    "output_H, output_W = H - (window_size - 1), W - (window_size - 1)\n",
    "\n",
    "output = np.zeros((output_H,output_W))\n",
    "for h in range(output_H):\n",
    "    for w in range(output_W):\n",
    "        # extract the window\n",
    "        window_data = data[h:h+window_size,w:w+window_size]\n",
    "        output[h,w] = np.max(window_data)\n",
    "print('=====')\n",
    "\n",
    "print(np.round(output,3))"
   ]
  },
  {
   "cell_type": "code",
   "execution_count": null,
   "id": "magnetic-citizen",
   "metadata": {},
   "outputs": [],
   "source": []
  }
 ],
 "metadata": {
  "kernelspec": {
   "display_name": "Python 3",
   "language": "python",
   "name": "python3"
  },
  "language_info": {
   "codemirror_mode": {
    "name": "ipython",
    "version": 3
   },
   "file_extension": ".py",
   "mimetype": "text/x-python",
   "name": "python",
   "nbconvert_exporter": "python",
   "pygments_lexer": "ipython3",
   "version": "3.7.9"
  }
 },
 "nbformat": 4,
 "nbformat_minor": 5
}
