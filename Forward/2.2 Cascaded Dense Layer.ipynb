{
 "cells": [
  {
   "cell_type": "code",
   "execution_count": 1,
   "id": "accredited-inquiry",
   "metadata": {},
   "outputs": [],
   "source": [
    "import torch\n",
    "import torch.nn as nn\n",
    "import numpy as np"
   ]
  },
  {
   "cell_type": "code",
   "execution_count": 2,
   "id": "celtic-bikini",
   "metadata": {},
   "outputs": [
    {
     "name": "stdout",
     "output_type": "stream",
     "text": [
      "weight1 shape :  torch.Size([3, 10])\n",
      "  bias1 shape :  torch.Size([3])\n",
      "weight2 shape :  torch.Size([5, 3])\n",
      "  bias1 shape :  torch.Size([5])\n",
      "==================================================\n",
      "input shape :  torch.Size([4, 10])\n",
      "1st Layout Output Shape :  torch.Size([4, 3])\n",
      "2nd Layout Output Shape :  torch.Size([4, 5])\n",
      "==================================================\n",
      "output\n",
      "tensor([[0.5981, 0.3788, 0.4047, 0.5578, 0.6396],\n",
      "        [0.6087, 0.3744, 0.3896, 0.5596, 0.6411],\n",
      "        [0.6014, 0.3750, 0.3992, 0.5556, 0.6393],\n",
      "        [0.6051, 0.3787, 0.3965, 0.5557, 0.6366]], grad_fn=<SigmoidBackward>)\n"
     ]
    }
   ],
   "source": [
    "N, n_feature = 4, 10\n",
    "x = torch.rand((N, n_feature))\n",
    "\n",
    "n_neuron = [3,5] # number of output features\n",
    "\n",
    "dense1 = nn.Linear(         10, n_neuron[0])\n",
    "dense2 = nn.Linear(n_neuron[0], n_neuron[1])\n",
    "activation = nn.Sigmoid()\n",
    "\n",
    "w1 = dense1.weight\n",
    "b1 = dense1.bias\n",
    "w2 = dense2.weight\n",
    "b2 = dense2.bias\n",
    "print('weight1 shape : ', w1.shape)\n",
    "print('  bias1 shape : ', b1.shape)\n",
    "print('weight2 shape : ', w2.shape)\n",
    "print('  bias1 shape : ', b2.shape)\n",
    "print('='*50)\n",
    "print('input shape : ', x.shape)\n",
    "A1 = dense1(x)\n",
    "A1 = activation(A1)\n",
    "print('1st Layout Output Shape : ', A1.shape)\n",
    "A2 = dense2(A1)\n",
    "A2 = activation(A2)\n",
    "print('2nd Layout Output Shape : ', A2.shape)\n",
    "print('='*50)\n",
    "print('output')\n",
    "print(A2)"
   ]
  },
  {
   "cell_type": "code",
   "execution_count": 3,
   "id": "canadian-mambo",
   "metadata": {},
   "outputs": [
    {
     "name": "stdout",
     "output_type": "stream",
     "text": [
      "output\n",
      "tensor([[0.5981, 0.3788, 0.4047, 0.5578, 0.6396],\n",
      "        [0.6087, 0.3744, 0.3896, 0.5596, 0.6411],\n",
      "        [0.6014, 0.3750, 0.3992, 0.5556, 0.6393],\n",
      "        [0.6051, 0.3787, 0.3965, 0.5557, 0.6366]], grad_fn=<MulBackward0>)\n"
     ]
    }
   ],
   "source": [
    "# w1, w2, b1, b2\n",
    "A1 = x @ w1.T + b1\n",
    "A1 = 1 / (1+torch.exp(-A1))\n",
    "A2 = A1 @ w2.T +b2\n",
    "A2 = 1 / (1+torch.exp(-A2))\n",
    "print('output')\n",
    "print(A2)"
   ]
  },
  {
   "cell_type": "code",
   "execution_count": 4,
   "id": "senior-philippines",
   "metadata": {},
   "outputs": [
    {
     "name": "stdout",
     "output_type": "stream",
     "text": [
      "After Dense Layer  0\n",
      "torch.Size([4, 64])\n",
      "After Dense Layer  1\n",
      "torch.Size([4, 32])\n",
      "After Dense Layer  2\n",
      "torch.Size([4, 16])\n",
      "After Dense Layer  3\n",
      "torch.Size([4, 8])\n",
      "tensor([[0.5578, 0.6522, 0.3963, 0.5759, 0.6025, 0.4921, 0.4751, 0.4514],\n",
      "        [0.5577, 0.6522, 0.3964, 0.5759, 0.6025, 0.4920, 0.4753, 0.4515],\n",
      "        [0.5577, 0.6522, 0.3964, 0.5757, 0.6023, 0.4922, 0.4751, 0.4515],\n",
      "        [0.5577, 0.6521, 0.3964, 0.5759, 0.6024, 0.4921, 0.4753, 0.4514]],\n",
      "       grad_fn=<SigmoidBackward>)\n",
      "After Dense Layer  0\n",
      "torch.Size([4, 64])\n",
      "After Dense Layer  1\n",
      "torch.Size([4, 32])\n",
      "After Dense Layer  2\n",
      "torch.Size([4, 16])\n",
      "After Dense Layer  3\n",
      "torch.Size([4, 8])\n",
      "tensor([[0.5578, 0.6522, 0.3963, 0.5759, 0.6025, 0.4921, 0.4751, 0.4514],\n",
      "        [0.5577, 0.6522, 0.3964, 0.5759, 0.6025, 0.4920, 0.4753, 0.4515],\n",
      "        [0.5577, 0.6522, 0.3964, 0.5757, 0.6023, 0.4922, 0.4751, 0.4515],\n",
      "        [0.5577, 0.6521, 0.3964, 0.5759, 0.6024, 0.4921, 0.4753, 0.4514]],\n",
      "       grad_fn=<MulBackward0>)\n"
     ]
    }
   ],
   "source": [
    "N, n_feature = 4, 32\n",
    "x = torch.rand((N, n_feature))\n",
    "x2 = x\n",
    "n_neurons = [64,32,16,8]\n",
    "\n",
    "dense_layers = list()\n",
    "weight_list  = list()\n",
    "bias_list    = list()\n",
    "\n",
    "# Generate Layers\n",
    "dense = nn.Linear(n_feature, n_neurons[0])\n",
    "dense_layers.append(dense)\n",
    "weight_list.append(dense.weight)\n",
    "bias_list.append(dense.bias)\n",
    "for neuron_idx in range(len(n_neurons)-1):\n",
    "    dense = nn.Linear(n_neurons[neuron_idx], n_neurons[neuron_idx+1])\n",
    "    weight_list.append(dense.weight)\n",
    "    bias_list.append(dense.bias)\n",
    "    dense_layers.append(dense)\n",
    "\n",
    "# pytorch\n",
    "for dense_idx, dense in enumerate(dense_layers):\n",
    "    x = dense(x)\n",
    "    x = activation(x)\n",
    "    print('After Dense Layer ', dense_idx)\n",
    "    print(x.shape)\n",
    "print(x)\n",
    "\n",
    "# Matrix Multiplication\n",
    "for dense_idx, dense in enumerate(dense_layers):\n",
    "    x2 = x2 @ weight_list[dense_idx].T + bias_list[dense_idx]\n",
    "    x2 = 1 / (1+torch.exp(-x2))\n",
    "    print('After Dense Layer ', dense_idx)\n",
    "    print(x2.shape)\n",
    "print(x2)"
   ]
  }
 ],
 "metadata": {
  "kernelspec": {
   "display_name": "Python 3",
   "language": "python",
   "name": "python3"
  },
  "language_info": {
   "codemirror_mode": {
    "name": "ipython",
    "version": 3
   },
   "file_extension": ".py",
   "mimetype": "text/x-python",
   "name": "python",
   "nbconvert_exporter": "python",
   "pygments_lexer": "ipython3",
   "version": "3.7.9"
  }
 },
 "nbformat": 4,
 "nbformat_minor": 5
}
