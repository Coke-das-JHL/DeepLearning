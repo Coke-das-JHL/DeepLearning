{
 "cells": [
  {
   "cell_type": "markdown",
   "id": "foster-football",
   "metadata": {},
   "source": [
    "## Shape of Dense Layer"
   ]
  },
  {
   "cell_type": "code",
   "execution_count": 1,
   "id": "fifteen-guard",
   "metadata": {},
   "outputs": [],
   "source": [
    "import torch\n",
    "import torch.nn as nn\n",
    "import numpy as np"
   ]
  },
  {
   "cell_type": "code",
   "execution_count": 2,
   "id": "frank-talent",
   "metadata": {},
   "outputs": [
    {
     "name": "stdout",
     "output_type": "stream",
     "text": [
      "input  shape         :  torch.Size([4, 10])\n",
      "weight shape         :  torch.Size([3, 10])\n",
      "bias   shape         :  torch.Size([3])\n",
      "output shape (torch) :  torch.Size([4, 3])\n",
      "output       (torch) \n",
      " tensor([[0.4906, 0.5529, 0.4467],\n",
      "        [0.5461, 0.5565, 0.4638],\n",
      "        [0.5480, 0.5221, 0.4474],\n",
      "        [0.5708, 0.5012, 0.4468]], grad_fn=<SigmoidBackward>)\n"
     ]
    }
   ],
   "source": [
    "N, n_feature = 4, 10\n",
    "\n",
    "x = torch.rand((N, n_feature))\n",
    "\n",
    "n_neuron = 3                                         # number of output features\n",
    "\n",
    "dense = nn.Linear(n_feature, n_neuron)\n",
    "activation = nn.Sigmoid()\n",
    "\n",
    "weight, bias = dense.weight, dense.bias\n",
    "\n",
    "y_torch = activation(dense(x))                       # X @ W.T + B = Y\n",
    "\n",
    "print('input  shape         : ', x.shape)            # [ Batch size, input Feature]\n",
    "print('weight shape         : ', weight.shape)       # Row Vector!\n",
    "print('bias   shape         : ', bias.shape)         # Row Vector!\n",
    "print('output shape (torch) : ', y_torch.shape)      # [ Batch size, output Feature]\n",
    "print('output       (torch) \\n', y_torch)"
   ]
  },
  {
   "cell_type": "code",
   "execution_count": 3,
   "id": "equivalent-conservation",
   "metadata": {},
   "outputs": [
    {
     "name": "stdout",
     "output_type": "stream",
     "text": [
      "output shape (torch) :  (4, 3)\n",
      "output       (numpy) \n",
      " [[0.4905806  0.5528901  0.4466806 ]\n",
      " [0.5460691  0.55653375 0.46382114]\n",
      " [0.5479719  0.522095   0.44738325]\n",
      " [0.57076025 0.5012158  0.446763  ]]\n"
     ]
    }
   ],
   "source": [
    "y = x @ weight.T + bias\n",
    "y = y.detach().numpy()                     # y.detach().numpy()\n",
    "y_numpy = 1 / (1 + np.exp(-y))\n",
    "print('output shape (torch) : ', y_numpy.shape)\n",
    "print('output       (numpy) \\n', y_numpy)"
   ]
  },
  {
   "cell_type": "code",
   "execution_count": 4,
   "id": "crude-sample",
   "metadata": {},
   "outputs": [],
   "source": [
    "x = x.detach().numpy()\n",
    "w = weight.detach().numpy()\n",
    "b = bias.detach().numpy()"
   ]
  },
  {
   "cell_type": "code",
   "execution_count": 5,
   "id": "indoor-cross",
   "metadata": {},
   "outputs": [
    {
     "name": "stdout",
     "output_type": "stream",
     "text": [
      "input  shape         :  (4, 10)\n",
      "weight shape         :  (3, 10)\n",
      "bias   shape         :  (3,)\n",
      "output shape (numpy) :  (4, 3)\n",
      "output       (numpy) \n",
      " [[0.49058058 0.55289009 0.44668062]\n",
      " [0.54606907 0.55653378 0.46382117]\n",
      " [0.54797191 0.52209504 0.44738329]\n",
      " [0.57076024 0.50121586 0.446763  ]]\n"
     ]
    }
   ],
   "source": [
    "print('input  shape         : ', x.shape)   # [ Batch size, input Feature]\n",
    "print('weight shape         : ', w.shape)   # Row Vector!\n",
    "print('bias   shape         : ', b.shape)   # Row Vector!\n",
    "\n",
    "y = np.zeros((N,n_neuron))\n",
    "\n",
    "for i in range(N):\n",
    "    temp_x = x[i]\n",
    "    for j in range(n_neuron):\n",
    "        temp_w = w[j]\n",
    "        y_temp = np.sum(temp_x * temp_w) + b[j]\n",
    "        y[i][j] = 1 / (1 + np.exp(-y_temp))\n",
    "        \n",
    "print('output shape (numpy) : ', y.shape)\n",
    "print('output       (numpy) \\n', y)"
   ]
  }
 ],
 "metadata": {
  "kernelspec": {
   "display_name": "Python 3",
   "language": "python",
   "name": "python3"
  },
  "language_info": {
   "codemirror_mode": {
    "name": "ipython",
    "version": 3
   },
   "file_extension": ".py",
   "mimetype": "text/x-python",
   "name": "python",
   "nbconvert_exporter": "python",
   "pygments_lexer": "ipython3",
   "version": "3.7.9"
  }
 },
 "nbformat": 4,
 "nbformat_minor": 5
}
