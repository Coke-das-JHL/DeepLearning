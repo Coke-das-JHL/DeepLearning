{
 "cells": [
  {
   "cell_type": "code",
   "execution_count": 1,
   "id": "focused-charity",
   "metadata": {},
   "outputs": [],
   "source": [
    "import torch\n",
    "import torch.nn as nn\n",
    "import numpy as np\n",
    "import matplotlib.pyplot as plt"
   ]
  },
  {
   "cell_type": "markdown",
   "id": "nervous-premises",
   "metadata": {},
   "source": [
    "# Toy Datasets\n",
    "\n",
    "### Dataset for Regression"
   ]
  },
  {
   "cell_type": "code",
   "execution_count": 9,
   "id": "thermal-lightning",
   "metadata": {},
   "outputs": [
    {
     "name": "stdout",
     "output_type": "stream",
     "text": [
      "torch.Size([5]) \n",
      " tensor([1., 2., 3., 4., 5.])\n",
      "\n",
      "torch.Size([8, 5]) \n",
      " tensor([[0.6191, 0.4783, 0.3670, 0.6870, 0.5733],\n",
      "        [0.1256, 0.6917, 0.0882, 0.7733, 0.2783],\n",
      "        [0.2565, 0.3025, 0.3745, 0.8922, 0.0394],\n",
      "        [0.7542, 0.6597, 0.6261, 0.7508, 0.9338],\n",
      "        [0.7093, 0.7687, 0.5999, 0.2184, 0.0483],\n",
      "        [0.2646, 0.4006, 0.6327, 0.6947, 0.7066],\n",
      "        [0.4260, 0.8323, 0.7749, 0.9691, 0.2488],\n",
      "        [0.8355, 0.9385, 0.0422, 0.7270, 0.0766]])\n",
      "\n",
      "torch.Size([1]) \n",
      " tensor([10.])\n",
      "\n",
      "torch.Size([8]) \n",
      " tensor([18.2912, 16.2583, 15.7511, 21.6245, 15.1614, 19.2756, 19.5358, 16.1300])\n",
      "\n",
      "X(shape/dype/data) \n",
      " torch.Size([8, 5]) torch.float32 \n",
      " tensor([[0.6191, 0.4783, 0.3670, 0.6870, 0.5733],\n",
      "        [0.1256, 0.6917, 0.0882, 0.7733, 0.2783],\n",
      "        [0.2565, 0.3025, 0.3745, 0.8922, 0.0394],\n",
      "        [0.7542, 0.6597, 0.6261, 0.7508, 0.9338],\n",
      "        [0.7093, 0.7687, 0.5999, 0.2184, 0.0483],\n",
      "        [0.2646, 0.4006, 0.6327, 0.6947, 0.7066],\n",
      "        [0.4260, 0.8323, 0.7749, 0.9691, 0.2488],\n",
      "        [0.8355, 0.9385, 0.0422, 0.7270, 0.0766]])\n",
      "\n",
      "Y(shape/dype/data) \n",
      " torch.Size([8]) torch.float32 \n",
      " tensor([18.2912, 16.2583, 15.7511, 21.6245, 15.1614, 19.2756, 19.5358, 16.1300])\n"
     ]
    }
   ],
   "source": [
    "N , n_feature = 8, 5\n",
    "\n",
    "# target Weight & Bias\n",
    "t_weights = torch.tensor([1,2,3,4,5], dtype = torch.float32) \n",
    "t_bias    = torch.tensor([10], dtype = torch.float32) \n",
    "\n",
    "x = torch.rand(N,n_feature)\n",
    "\n",
    "y = torch.sum(t_weights * x, axis = 1) + t_bias # Broadcasting\n",
    "print(t_weights.shape,'\\n', t_weights)\n",
    "print()\n",
    "print(x.shape,'\\n',x)        \n",
    "print()\n",
    "print(t_bias.shape,'\\n',t_bias)        \n",
    "print()\n",
    "print(y.shape,'\\n',y)  \n",
    "print()\n",
    "\n",
    "print(\"X(shape/dype/data) \\n\", x.shape, x.dtype,'\\n',x)\n",
    "print()\n",
    "print(\"Y(shape/dype/data) \\n\", y.shape, y.dtype,'\\n',y)"
   ]
  },
  {
   "cell_type": "markdown",
   "id": "small-serbia",
   "metadata": {},
   "source": [
    "### Dataset for Binary Classification"
   ]
  },
  {
   "cell_type": "code",
   "execution_count": 15,
   "id": "subsequent-fitting",
   "metadata": {},
   "outputs": [
    {
     "name": "stdout",
     "output_type": "stream",
     "text": [
      "X input  (shape/dype/data) \n",
      " torch.Size([8, 5]) torch.float32 \n",
      " tensor([[-2.0212,  1.5027, -1.3737,  4.5752,  4.1356],\n",
      "        [ 0.5242, -2.6990,  3.3164, -3.5571, -3.8400],\n",
      "        [ 0.8575,  3.7056,  0.2173,  2.0948, -3.5324],\n",
      "        [ 1.9470,  1.2989,  1.0296, -1.0279,  3.2872],\n",
      "        [ 2.5247,  0.1774, -1.9136,  2.0711, -2.0284],\n",
      "        [-1.6501,  0.8779,  2.5701, -4.1748, -3.3137],\n",
      "        [-4.8808, -1.6716, -1.4198,  2.0151,  0.6631],\n",
      "        [-4.5286, -0.2745,  3.6988, -3.4440,  4.9913]])\n",
      "\n",
      "Y output (shape/dype/data) \n",
      " torch.Size([8]) torch.int32 \n",
      " tensor([1, 1, 1, 0, 1, 0, 1, 0], dtype=torch.int32)\n"
     ]
    }
   ],
   "source": [
    "N , n_feature = 8, 5\n",
    "\n",
    "# target Weight & Bias\n",
    "t_weights = torch.tensor([1,-2,-3,4,-5], dtype = torch.float32) \n",
    "t_bias    = torch.tensor([10], dtype = torch.float32) \n",
    "\n",
    "x = (torch.rand(N,n_feature) - 0.5)*10\n",
    "\n",
    "y = torch.sum(t_weights * x, axis = 1) + t_bias # Broadcasting\n",
    "y = nn.Sigmoid()(y)                             # !!\n",
    "y = (y>0.5).type(torch.int32)\n",
    "\n",
    "print(\"X input  (shape/dype/data) \\n\", x.shape, x.dtype,'\\n',x)\n",
    "print()\n",
    "print(\"Y output (shape/dype/data) \\n\", y.shape, y.dtype,'\\n',y)"
   ]
  },
  {
   "cell_type": "markdown",
   "id": "political-chapter",
   "metadata": {},
   "source": [
    "### Dataset for Multi-class Classification"
   ]
  },
  {
   "cell_type": "code",
   "execution_count": 5,
   "id": "incredible-complexity",
   "metadata": {},
   "outputs": [
    {
     "name": "stdout",
     "output_type": "stream",
     "text": [
      "torch.Size([30, 2]) torch.Size([30, 1])\n",
      "torch.Size([60, 2]) torch.Size([60, 1])\n",
      "torch.Size([90, 2]) torch.Size([90, 1])\n",
      "torch.Size([120, 2]) torch.Size([120, 1])\n",
      "torch.Size([150, 2]) torch.Size([150, 1])\n"
     ]
    },
    {
     "data": {
      "image/png": "[encoded data removed]",
      "text/plain": [
       "<Figure size 360x360 with 1 Axes>"
      ]
     },
     "metadata": {
      "needs_background": "light"
     },
     "output_type": "display_data"
    }
   ],
   "source": [
    "N         = 30 # 30 point per class\n",
    "n_feature = 2  # x,y  \n",
    "n_class   = 5\n",
    "                                          # 틀 생성\n",
    "X = torch.zeros((0, n_feature))           # Matrix \n",
    "Y = torch.zeros((0,), dtype=torch.int32)  # Vector\n",
    "\n",
    "fig, ax = plt.subplots(figsize=(5,5))\n",
    "for class_idx in range(n_class):\n",
    "    center = 30 * (torch.rand(2,) - 0.5 )\n",
    "    \n",
    "    x1 = center[0] + 5*(torch.rand(N,1) - 0.5 )\n",
    "    x2 = center[1] + 5*(torch.rand(N,1) - 0.5 )\n",
    "    \n",
    "    x = torch.cat((x1,x2), axis=1)\n",
    "    y = class_idx*torch.ones((N,1))\n",
    "    ax.scatter(x1.numpy(), x2.numpy())\n",
    "    \n",
    "    X = torch.cat((X,x), axis=0)\n",
    "    Y = torch.cat((Y,y), axis=0)\n",
    "    print(X.shape, Y.shape)"
   ]
  },
  {
   "cell_type": "markdown",
   "id": "aerial-princess",
   "metadata": {},
   "source": [
    "### Dataset object"
   ]
  },
  {
   "cell_type": "code",
   "execution_count": 21,
   "id": "absolute-motor",
   "metadata": {},
   "outputs": [
    {
     "name": "stdout",
     "output_type": "stream",
     "text": [
      "torch.Size([100, 5]) torch.Size([100])\n",
      "torch.Size([32, 5]) torch.Size([32])\n",
      "torch.Size([32, 5]) torch.Size([32])\n",
      "torch.Size([32, 5]) torch.Size([32])\n"
     ]
    }
   ],
   "source": [
    "N         = 100 \n",
    "n_feature = 5     \n",
    "batch_size= 32\n",
    "\n",
    "# target Weight & Bias\n",
    "t_weights = torch.tensor([1,2,3,4,5], dtype = torch.float32) \n",
    "t_bias    = torch.tensor([10], dtype = torch.float32) \n",
    "\n",
    "X = (torch.rand(N,n_feature) - 0.5)*10\n",
    "Y = torch.sum(t_weights * X, axis = 1) + t_bias # Broadcasting\n",
    "print(X.shape, Y.shape)\n",
    "\n",
    "for batch_idx in range(N//batch_size):\n",
    "    x = X[batch_idx * batch_size : (batch_idx+1)*batch_size]\n",
    "    y = Y[batch_idx * batch_size : (batch_idx+1)*batch_size]\n",
    "    \n",
    "    print(x.shape, y.shape)"
   ]
  },
  {
   "cell_type": "code",
   "execution_count": 28,
   "id": "liquid-seafood",
   "metadata": {},
   "outputs": [],
   "source": [
    "from torch.utils.data import DataLoader\n",
    "# Data loader. Combines a dataset and a sampler, and provides an iterable over the given dataset.\n",
    "# supports both map-style and iterable-style datasets\n",
    "\n",
    "train_loader= DataLoader(X, batch_size=32)\n",
    "label_loader= DataLoader(Y, batch_size=32)"
   ]
  },
  {
   "cell_type": "code",
   "execution_count": 29,
   "id": "meaning-prevention",
   "metadata": {},
   "outputs": [
    {
     "name": "stdout",
     "output_type": "stream",
     "text": [
      "torch.Size([32, 5])\n",
      "torch.Size([32, 5])\n",
      "torch.Size([32, 5])\n",
      "torch.Size([4, 5])\n"
     ]
    }
   ],
   "source": [
    "for x in train_loader:\n",
    "    print(x.shape)"
   ]
  },
  {
   "cell_type": "code",
   "execution_count": 30,
   "id": "wrapped-ontario",
   "metadata": {},
   "outputs": [
    {
     "name": "stdout",
     "output_type": "stream",
     "text": [
      "torch.Size([32])\n",
      "torch.Size([32])\n",
      "torch.Size([32])\n",
      "torch.Size([4])\n"
     ]
    }
   ],
   "source": [
    "for y in label_loader:\n",
    "    print(y.shape)"
   ]
  },
  {
   "cell_type": "markdown",
   "id": "dutch-accessory",
   "metadata": {},
   "source": [
    "### data size = batch_size * iterations -> 1 epoch (forward & backward)"
   ]
  }
 ],
 "metadata": {
  "kernelspec": {
   "display_name": "Python 3",
   "language": "python",
   "name": "python3"
  },
  "language_info": {
   "codemirror_mode": {
    "name": "ipython",
    "version": 3
   },
   "file_extension": ".py",
   "mimetype": "text/x-python",
   "name": "python",
   "nbconvert_exporter": "python",
   "pygments_lexer": "ipython3",
   "version": "3.7.9"
  }
 },
 "nbformat": 4,
 "nbformat_minor": 5
}
