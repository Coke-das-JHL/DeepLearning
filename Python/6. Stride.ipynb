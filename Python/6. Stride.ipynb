{
 "cells": [
  {
   "cell_type": "markdown",
   "id": "concrete-house",
   "metadata": {},
   "source": [
    "# 1D Strides\n",
    "    - 1D Max Pooling with Strides\n",
    "<br>\n",
    "<font size=\"5\">\n",
    "    $$ p[i] = max(W_{i}) $$\n",
    "</font>\n",
    "\n",
    "<br>\n",
    "<font size=\"5\">\n",
    "    $$ L_{o} = [\\frac{L_{i} - L_{f}}{s} + 1] $$\n",
    "</font>  \n",
    "\n",
    "\n",
    "# 2D Strides\n",
    "    - 2D Max Pooling with Strides\n",
    "<br>\n",
    "<font size=\"5\">\n",
    "    $$ p[i,j] = max(W_{i,j}) $$\n",
    "</font>\n",
    "\n",
    "<font size=\"5\">\n",
    "    $$ L_{o} = [\\frac{L_{i} - L_{f}}{s} + 1] $$\n",
    "</font>"
   ]
  },
  {
   "cell_type": "code",
   "execution_count": 1,
   "id": "secure-trouble",
   "metadata": {},
   "outputs": [
    {
     "name": "stdout",
     "output_type": "stream",
     "text": [
      "0\n",
      "2\n",
      "4\n"
     ]
    }
   ],
   "source": [
    "# Step\n",
    "for idx in range(0, 6, 2): print(idx)"
   ]
  },
  {
   "cell_type": "code",
   "execution_count": 2,
   "id": "defined-sydney",
   "metadata": {},
   "outputs": [
    {
     "name": "stdout",
     "output_type": "stream",
     "text": [
      "Input data:  [7 7 1 7 5 5 9 0 0 9]\n",
      "Length of data:  10 \n",
      "\n",
      "Pooled data:  [7 7 9 9]\n",
      "Length of pooled data:  4\n",
      "Pooled data:  [7. 7. 9. 9.]\n",
      "Length of pooled data:  4\n"
     ]
    }
   ],
   "source": [
    "import numpy as np\n",
    "\n",
    "# 1D Max Pooling with Strides\n",
    "win_size = 3   # Window Size\n",
    "stride = 2     # Stride Size\n",
    "\n",
    "# random data\n",
    "data = np.random.randint(0,10,(10,))\n",
    "data_len = len(data)\n",
    "print(\"Input data: \", data)\n",
    "print(\"Length of data: \", data_len, '\\n')\\\n",
    "\n",
    "win_out_len = ( data_len - win_size ) + 1\n",
    "out_len =  np.floor((data_len - win_size)/stride + 1).astype('int')\n",
    "\n",
    "# Max pooling1 \n",
    "output1 = list()\n",
    "for idx in range(0,win_out_len,stride):\n",
    "    output1.append(np.max(data[idx:idx+win_size]))\n",
    "\n",
    "# Max pooling2\n",
    "output2 = np.zeros((out_len,))\n",
    "for idx in range(out_len):\n",
    "    output2[idx]= np.max(data[idx*stride:idx*stride+win_size])\n",
    "    \n",
    "\n",
    "output1 = np.array(output1)\n",
    "print(\"Pooled data: \", np.round(output1,2))\n",
    "print(\"Length of pooled data: \", len(output1))\n",
    "\n",
    "print(\"Pooled data: \", np.round(output2,2))\n",
    "print(\"Length of pooled data: \", len(output2))"
   ]
  },
  {
   "cell_type": "code",
   "execution_count": 3,
   "id": "whole-causing",
   "metadata": {},
   "outputs": [
    {
     "name": "stdout",
     "output_type": "stream",
     "text": [
      "Input data: \n",
      " [[0 9 0 0 3 1 2 6 0 6]\n",
      " [6 5 2 1 1 6 2 1 2 5]\n",
      " [0 4 2 6 0 8 9 6 9 4]\n",
      " [1 8 2 1 9 5 6 2 6 6]\n",
      " [6 7 8 0 1 1 6 5 3 8]\n",
      " [5 9 2 7 1 3 0 4 2 8]\n",
      " [3 9 7 4 0 7 0 0 0 6]\n",
      " [8 5 0 7 1 1 1 1 0 7]\n",
      " [0 3 4 6 3 1 8 1 6 7]\n",
      " [1 8 2 9 1 9 9 3 8 4]]\n",
      "Shape of data:  10 x 10 \n",
      "\n",
      "Pooled data: \n",
      " [[9. 6. 9. 9.]\n",
      " [8. 9. 9. 9.]\n",
      " [9. 8. 7. 6.]\n",
      " [9. 7. 8. 8.]]\n",
      "Shape of pooled data:  (4, 4)\n",
      "Pooled data: \n",
      " [[9. 6. 9. 9.]\n",
      " [8. 9. 9. 9.]\n",
      " [9. 8. 7. 6.]\n",
      " [9. 7. 8. 8.]]\n",
      "Shape of pooled data:  (4, 4)\n"
     ]
    }
   ],
   "source": [
    "# 2D Max Pooling with Strides\n",
    "win_size = 3   # Window Size 3x3\n",
    "stride = 2     # Stride Size\n",
    "\n",
    "# random data\n",
    "data = np.random.randint(0,10,(10,10))\n",
    "data_len = len(data)\n",
    "H, W = data.shape\n",
    "print(\"Input data: \\n\", data)\n",
    "print(\"Shape of data: \", H,'x',W, '\\n')\\\n",
    "\n",
    "win_out_len_H = ( H - win_size ) + 1\n",
    "win_out_len_W = ( W - win_size ) + 1\n",
    "\n",
    "out_len_H =  np.floor((H - win_size)/stride + 1).astype('int')\n",
    "out_len_W =  np.floor((W - win_size)/stride + 1).astype('int')\n",
    "\n",
    "# Max pooling1 \n",
    "output1 = list()\n",
    "for i in range(0,win_out_len_H,stride):\n",
    "    temp = np.array([])\n",
    "    for j in range(0,win_out_len_W,stride):\n",
    "        temp = np.append(temp,np.max(data[i:i+win_size,j:j+win_size]))\n",
    "    output1.append(temp)\n",
    "\n",
    "# Max pooling2 \n",
    "output2 = np.zeros((out_len_H,out_len_W))\n",
    "for i in range(out_len_H):\n",
    "    for j in range(out_len_W):\n",
    "        output2[i,j]= np.max(data[i*stride:i*stride+win_size,j*stride:j*stride+win_size])\n",
    "    \n",
    "\n",
    "output1 = np.array(output1)\n",
    "print(\"Pooled data: \\n\", np.round(output1,2))\n",
    "print(\"Shape of pooled data: \", output1.shape)\n",
    "\n",
    "print(\"Pooled data: \\n\", np.round(output2,2))\n",
    "print(\"Shape of pooled data: \", output2.shape)"
   ]
  },
  {
   "attachments": {
    "image.png": {
     "image/png": "[encoded data removed]"
    }
   },
   "cell_type": "markdown",
   "id": "conceptual-sodium",
   "metadata": {},
   "source": [
    "# Final Output Shape\n",
    "\n",
    "![image.png](attachment:image.png)\n",
    "W: image width  \n",
    "F: filter width  \n",
    "P: padding size  \n",
    "S: Stride number  "
   ]
  }
 ],
 "metadata": {
  "kernelspec": {
   "display_name": "Python 3",
   "language": "python",
   "name": "python3"
  },
  "language_info": {
   "codemirror_mode": {
    "name": "ipython",
    "version": 3
   },
   "file_extension": ".py",
   "mimetype": "text/x-python",
   "name": "python",
   "nbconvert_exporter": "python",
   "pygments_lexer": "ipython3",
   "version": "3.7.9"
  }
 },
 "nbformat": 4,
 "nbformat_minor": 5
}
